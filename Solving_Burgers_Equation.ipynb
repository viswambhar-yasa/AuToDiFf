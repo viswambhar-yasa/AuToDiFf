{
  "nbformat": 4,
  "nbformat_minor": 0,
  "metadata": {
    "colab": {
      "name": "Solving_Burgers Equation.ipynb",
      "provenance": [],
      "collapsed_sections": [],
      "mount_file_id": "16PG2ULRdG-F7Yw9RASaQ8mRlxgxtiB5R",
      "authorship_tag": "ABX9TyPPfcB7sjY2BZmZqu+6JakU",
      "include_colab_link": true
    },
    "kernelspec": {
      "name": "python3",
      "display_name": "Python 3"
    },
    "language_info": {
      "name": "python"
    },
    "accelerator": "GPU"
  },
  "cells": [
    {
      "cell_type": "markdown",
      "metadata": {
        "id": "view-in-github",
        "colab_type": "text"
      },
      "source": [
        "<a href=\"https://colab.research.google.com/github/viswambhar-yasa/AuToDiFf/blob/main/Solving_Burgers_Equation.ipynb\" target=\"_parent\"><img src=\"https://colab.research.google.com/assets/colab-badge.svg\" alt=\"Open In Colab\"/></a>"
      ]
    },
    {
      "cell_type": "markdown",
      "metadata": {
        "id": "yrvw_7KYUzmH"
      },
      "source": [
        "\n",
        "Solve time discretized version of Burgers Equation ( suitable for analysis in various fields like sedimentation of polydispersive suspensions and colloids, aspect of turbulence, non-linear wave propagation, growth of molecular interfaces, longitudinal elastic waves in isotropic solids, traffic flow, cosmology, gas dynamics and shock wave theory.).\n",
        "\n",
        "Data from: https://github.com/maziarraissi/PINNs\n",
        "\n",
        "strategy:\n",
        "\n",
        "->Output of NN is calculated simultaneously for all data points and loss is squared average from all data points.\n",
        "\n",
        "->The loss is of both domain and boundary together. \n",
        "\n",
        "Type:\n",
        "\n",
        "->Soft assignment of BCs. (explicitly not stated , but trained using data points)\n",
        "\n",
        "->Since we are using time discretized version , the discretized version(formulated using Runge-Kutta Stepping scheme and solution at the beginning) is solved by the NN.\n"
      ]
    },
    {
      "cell_type": "code",
      "metadata": {
        "colab": {
          "base_uri": "https://localhost:8080/"
        },
        "id": "3YL14gc6k1cq",
        "outputId": "d921f4fa-b246-4c5e-ff08-3d5b89b40ff3"
      },
      "source": [
        "from os.path import join\n",
        "from google.colab import drive\n",
        "\n",
        "ROOT = \"/content/drive\"\n",
        "drive.mount(ROOT)\n",
        "\n",
        "!git clone https://github.com/viswambhar-yasa/AuToDiFf \"/content/drive/My Drive/AutoDiff\""
      ],
      "execution_count": 1,
      "outputs": [
        {
          "output_type": "stream",
          "name": "stdout",
          "text": [
            "Mounted at /content/drive\n",
            "fatal: destination path '/content/drive/My Drive/AutoDiff' already exists and is not an empty directory.\n"
          ]
        }
      ]
    },
    {
      "cell_type": "code",
      "metadata": {
        "id": "RPK2X36HqK3_",
        "colab": {
          "base_uri": "https://localhost:8080/"
        },
        "outputId": "d9218e29-401b-4cf2-c070-9ef9649bdcd1"
      },
      "source": [
        "ls"
      ],
      "execution_count": 2,
      "outputs": [
        {
          "output_type": "stream",
          "name": "stdout",
          "text": [
            "\u001b[0m\u001b[01;34mdrive\u001b[0m/  \u001b[01;34msample_data\u001b[0m/\n"
          ]
        }
      ]
    },
    {
      "cell_type": "code",
      "metadata": {
        "id": "E6n9iBlalxNA"
      },
      "source": [
        "import sys,os\n",
        "sys.path.append('/content/drive/MyDrive/AutoDiff/')"
      ],
      "execution_count": 3,
      "outputs": []
    },
    {
      "cell_type": "code",
      "metadata": {
        "id": "R3pR5r8xpRFg",
        "colab": {
          "base_uri": "https://localhost:8080/"
        },
        "outputId": "95d5d7a9-fc05-4558-bbe3-d41b12895e46"
      },
      "source": [
        "ls"
      ],
      "execution_count": 4,
      "outputs": [
        {
          "output_type": "stream",
          "name": "stdout",
          "text": [
            "\u001b[0m\u001b[01;34mdrive\u001b[0m/  \u001b[01;34msample_data\u001b[0m/\n"
          ]
        }
      ]
    },
    {
      "cell_type": "code",
      "metadata": {
        "colab": {
          "base_uri": "https://localhost:8080/"
        },
        "id": "v01BRDXPwye_",
        "outputId": "3d5427fc-b13d-4361-a161-295cba7e94e1"
      },
      "source": [
        "cd /content/drive/MyDrive/AutoDiff/"
      ],
      "execution_count": 5,
      "outputs": [
        {
          "output_type": "stream",
          "name": "stdout",
          "text": [
            "/content/drive/MyDrive/AutoDiff\n"
          ]
        }
      ]
    },
    {
      "cell_type": "code",
      "metadata": {
        "id": "pSts3ScmlBYa"
      },
      "source": [
        "#Import required packages\n",
        "import autodiff as ad \n",
        "import numpy as np \n",
        "import matplotlib.pyplot as plt \n",
        "from NN_architecture import NeuralNetLSTM,xavier\n",
        "from scipy.io import loadmat\n",
        "from optimizers import Adam\n",
        "import sys"
      ],
      "execution_count": 6,
      "outputs": []
    },
    {
      "cell_type": "code",
      "metadata": {
        "id": "9x0cD41brXyJ"
      },
      "source": [
        "\n",
        "#Since the setup is complex, recursionlimit should be set to a large value manually\n",
        "sys.setrecursionlimit(10000)\n",
        "def loss_calculator(model,x0,u0,IRK_weights,):\n",
        "    \"\"\"\n",
        "    calculates squared loss at all data points in both domain and boundary .\n",
        "    Inputs:\n",
        "    model: The model to be trained \n",
        "    x0   : Data points \n",
        "    u0   : Solution at 0.1 second \n",
        "    IRK Weights : Butcher Tableau of corresponding Runge-Kutta weight matrix\n",
        "    returns: mean squared loss\n",
        "    \"\"\"\n",
        "    #converting data points into suitable type\n",
        "    X=ad.Variable(x0,name=\"X\")\n",
        "    U = model.output(X)\n",
        "    U1 = U[:,:-1]\n",
        "    #Instantiating dummy variables to get forward gradients\n",
        "    dummy1 = ad.Variable(np.ones((100,32)),name=\"dummy1\")\n",
        "    dummy2 =ad.Variable(np.ones((100,33)),name=\"dummy2\")\n",
        "    dummy3= np.ones((100,32))\n",
        "    #g = ad.grad(U,[X],previous_grad=dummy2)[0]\n",
        "    #print(\"g:\",g().shape)\n",
        "    gx = ad.grad(ad.grad(U,[X],dummy2)[0],[dummy2])[0]\n",
        "    ux = gx[:,:-1]\n",
        "    #print(\"ux\",ux().shape)\n",
        "    #g1 = ad.grad(g,[X],previous_grad=dummy1)[0]\n",
        "    #print(\"g1\",g1().shape)\n",
        "    gxx= ad.grad(ad.grad(gx,[X],dummy2)[0],[dummy2])[0]\n",
        "    uxx = gxx[:,:-1]\n",
        "    \n",
        "    #print(\"uxx\",uxx().shape)\n",
        "    #F = -U1*g + (0.01/np.pi)*g1\n",
        "    F = -U1*ux + ((0.01/np.pi)*uxx)\n",
        "    #Formulate the loss\n",
        "    temp =0.4*ad.MatMul(F,IRK_weights.transpose())\n",
        "    U0 = U - temp\n",
        "    u0 = ad.Variable(u0,name=\"u0\")\n",
        "    #val = ad.ReduceSumToShape(U0,(250,1))\n",
        "    #squared Sum over all axes\n",
        "    lossd = ad.ReduceSumToShape(ad.Pow(U0 - u0,2),(1,1))\n",
        "    #print(lossd())\n",
        "    X1 = ad.Variable(np.vstack((-1.0,+1.0)),name=\"X1\")\n",
        "    Ub = model.output(X1)\n",
        "    #Loss at boundary squared sum over all axes\n",
        "    lossb = ad.ReduceSumToShape(ad.Pow(Ub,2),(1,1))\n",
        "    loss = lossd + lossb\n",
        "    return loss\n"
      ],
      "execution_count": 7,
      "outputs": []
    },
    {
      "cell_type": "code",
      "metadata": {
        "colab": {
          "base_uri": "https://localhost:8080/"
        },
        "id": "18nz1Uooihfs",
        "outputId": "edb3a9a8-cbe8-4952-dfcf-2f293e3d749e"
      },
      "source": [
        "!wget https://github.com/viswambhar-yasa/AuToDiFf/blob/main/Dataset/initial_data.mat './content/'\n",
        "!wget https://github.com/viswambhar-yasa/AuToDiFf/blob/main/Dataset/irk32.txt '/content/'"
      ],
      "execution_count": 20,
      "outputs": [
        {
          "output_type": "stream",
          "name": "stdout",
          "text": [
            "--2021-09-15 13:07:29--  https://github.com/viswambhar-yasa/AuToDiFf/blob/main/Dataset/initial_data.mat\n",
            "Resolving github.com (github.com)... 140.82.112.3\n",
            "Connecting to github.com (github.com)|140.82.112.3|:443... connected.\n",
            "HTTP request sent, awaiting response... 200 OK\n",
            "Length: unspecified [text/html]\n",
            "Saving to: ‘initial_data.mat’\n",
            "\n",
            "initial_data.mat        [ <=>                ] 127.68K  --.-KB/s    in 0.08s   \n",
            "\n",
            "2021-09-15 13:07:29 (1.62 MB/s) - ‘initial_data.mat’ saved [130741]\n",
            "\n",
            "--2021-09-15 13:07:29--  http://./content/\n",
            "Resolving . (.)... failed: No address associated with hostname.\n",
            "wget: unable to resolve host address ‘.’\n",
            "FINISHED --2021-09-15 13:07:29--\n",
            "Total wall clock time: 0.4s\n",
            "Downloaded: 1 files, 128K in 0.08s (1.62 MB/s)\n",
            "--2021-09-15 13:07:29--  https://github.com/viswambhar-yasa/AuToDiFf/blob/main/Dataset/irk32.txt\n",
            "Resolving github.com (github.com)... 140.82.114.4\n",
            "Connecting to github.com (github.com)|140.82.114.4|:443... connected.\n",
            "HTTP request sent, awaiting response... 200 OK\n",
            "Length: unspecified [text/html]\n",
            "Saving to: ‘irk32.txt’\n",
            "\n",
            "irk32.txt               [ <=>                ] 345.45K  --.-KB/s    in 0.1s    \n",
            "\n",
            "2021-09-15 13:07:30 (2.60 MB/s) - ‘irk32.txt’ saved [353743]\n",
            "\n",
            "/content/: Scheme missing.\n",
            "FINISHED --2021-09-15 13:07:30--\n",
            "Total wall clock time: 0.4s\n",
            "Downloaded: 1 files, 345K in 0.1s (2.60 MB/s)\n"
          ]
        }
      ]
    },
    {
      "cell_type": "code",
      "metadata": {
        "id": "4hZEPU1YrlHs"
      },
      "source": [
        "\n",
        "#Loading of exact data for plotting and training\n",
        "N = 100\n",
        "data = loadmat('/content/initial_data.mat')\n",
        "Exact = np.real(data['usol']).T \n",
        "idx_x = np.random.choice(Exact.shape[1], N, replace=False) \n",
        "t = data['t'].flatten()[:,None] \n",
        "\n",
        "    \n",
        "idx_t0 = 10\n",
        "u0 = Exact[idx_t0:idx_t0+1,idx_x].T\n",
        "x = data['x'].flatten()[:,None] \n",
        "\n",
        "x0 = x[idx_x,:]\n",
        "#Instantiating the NN\n",
        "model = NeuralNetLSTM(20,1,1,33)\n",
        "model.set_weights([xavier(i().shape[0],i().shape[1]) for i in model.get_weights()])\n",
        "tmp = np.float32(np.loadtxt('/content/irk32.txt' , ndmin = 2))\n",
        "IRK_weights = np.reshape(tmp[0:32**2+32], (32+1,32))\n",
        "IRK_times = tmp[32**2+32:]\n",
        "epochs = 3001\n",
        "#Instantiating the optimizer\n",
        "optimizer = Adam(len(model.get_weights()))"
      ],
      "execution_count": 21,
      "outputs": []
    },
    {
      "cell_type": "code",
      "metadata": {
        "id": "RyYQM0b7rrau",
        "colab": {
          "base_uri": "https://localhost:8080/"
        },
        "outputId": "ffbded7f-4358-4830-fd33-1a8d2392c95a"
      },
      "source": [
        "\n",
        "#------------------------------------------------------Start of training-------------------------------------\n",
        "for i in range(epochs):\n",
        "    loss = loss_calculator(model,x0,u0,IRK_weights)\n",
        "    #Exit condition\n",
        "    if loss() <= 1:\n",
        "        break\n",
        "    if i % 50 ==0:\n",
        "        print(\"Iteration\",i)\n",
        "        print(\"loss  epoch\",loss())\n",
        "    params = model.get_weights()\n",
        "    grad_params = ad.grad(loss,model.get_weights())\n",
        "    #print(\"grad params shape\",grad_params[6]()) \n",
        "    new_params = [0 for _ in params]\n",
        "    new_params = optimizer([i() for i in params], [i() for i in grad_params])\n",
        "    model.set_weights(new_params)"
      ],
      "execution_count": null,
      "outputs": [
        {
          "output_type": "stream",
          "name": "stdout",
          "text": [
            "Iteration 0\n",
            "loss  epoch [[2608.97499018]]\n",
            "Iteration 50\n",
            "loss  epoch [[1563.20148582]]\n",
            "Iteration 100\n",
            "loss  epoch [[1343.9948343]]\n",
            "Iteration 150\n",
            "loss  epoch [[1044.9799628]]\n",
            "Iteration 200\n",
            "loss  epoch [[810.79330315]]\n",
            "Iteration 250\n",
            "loss  epoch [[715.37314854]]\n",
            "Iteration 300\n",
            "loss  epoch [[637.4338244]]\n",
            "Iteration 350\n",
            "loss  epoch [[532.93030439]]\n",
            "Iteration 400\n",
            "loss  epoch [[422.58067411]]\n",
            "Iteration 450\n",
            "loss  epoch [[321.32678727]]\n",
            "Iteration 500\n",
            "loss  epoch [[234.08103589]]\n",
            "Iteration 550\n",
            "loss  epoch [[166.76041982]]\n",
            "Iteration 600\n",
            "loss  epoch [[124.41250542]]\n",
            "Iteration 650\n",
            "loss  epoch [[96.45584139]]\n",
            "Iteration 700\n",
            "loss  epoch [[79.29623417]]\n",
            "Iteration 750\n",
            "loss  epoch [[69.31879234]]\n",
            "Iteration 800\n",
            "loss  epoch [[63.32912132]]\n",
            "Iteration 850\n",
            "loss  epoch [[59.43774709]]\n",
            "Iteration 900\n",
            "loss  epoch [[56.6280015]]\n",
            "Iteration 950\n",
            "loss  epoch [[54.34556883]]\n",
            "Iteration 1000\n",
            "loss  epoch [[52.27465311]]\n",
            "Iteration 1050\n",
            "loss  epoch [[50.23392386]]\n",
            "Iteration 1100\n",
            "loss  epoch [[48.26071829]]\n",
            "Iteration 1150\n",
            "loss  epoch [[46.35508418]]\n",
            "Iteration 1200\n",
            "loss  epoch [[44.41513397]]\n",
            "Iteration 1250\n",
            "loss  epoch [[42.40353414]]\n",
            "Iteration 1300\n",
            "loss  epoch [[40.37641155]]\n",
            "Iteration 1350\n",
            "loss  epoch [[38.29495224]]\n",
            "Iteration 1400\n",
            "loss  epoch [[36.1505543]]\n",
            "Iteration 1450\n",
            "loss  epoch [[33.95134994]]\n",
            "Iteration 1500\n",
            "loss  epoch [[31.73203782]]\n",
            "Iteration 1550\n",
            "loss  epoch [[29.61292202]]\n",
            "Iteration 1600\n",
            "loss  epoch [[27.50660465]]\n",
            "Iteration 1650\n",
            "loss  epoch [[25.46110921]]\n",
            "Iteration 1700\n",
            "loss  epoch [[23.37720084]]\n",
            "Iteration 1750\n",
            "loss  epoch [[21.22883096]]\n",
            "Iteration 1800\n",
            "loss  epoch [[19.11547082]]\n",
            "Iteration 1850\n",
            "loss  epoch [[17.03351523]]\n",
            "Iteration 1900\n",
            "loss  epoch [[15.14561114]]\n",
            "Iteration 1950\n",
            "loss  epoch [[13.49038429]]\n",
            "Iteration 2000\n",
            "loss  epoch [[12.1129498]]\n",
            "Iteration 2050\n",
            "loss  epoch [[11.01475167]]\n",
            "Iteration 2100\n",
            "loss  epoch [[10.06845607]]\n",
            "Iteration 2150\n",
            "loss  epoch [[9.31350904]]\n",
            "Iteration 2200\n",
            "loss  epoch [[8.63001557]]\n",
            "Iteration 2250\n",
            "loss  epoch [[8.1763119]]\n",
            "Iteration 2300\n",
            "loss  epoch [[7.69786501]]\n",
            "Iteration 2350\n",
            "loss  epoch [[7.22082257]]\n",
            "Iteration 2400\n",
            "loss  epoch [[6.90103715]]\n",
            "Iteration 2450\n",
            "loss  epoch [[6.50373708]]\n",
            "Iteration 2500\n",
            "loss  epoch [[6.26813076]]\n",
            "Iteration 2550\n",
            "loss  epoch [[5.94152303]]\n",
            "Iteration 2600\n",
            "loss  epoch [[5.68941503]]\n",
            "Iteration 2650\n",
            "loss  epoch [[5.61010814]]\n",
            "Iteration 2700\n",
            "loss  epoch [[5.20587002]]\n",
            "Iteration 2750\n",
            "loss  epoch [[4.99249503]]\n",
            "Iteration 2800\n",
            "loss  epoch [[4.99750862]]\n",
            "Iteration 2850\n",
            "loss  epoch [[4.62113457]]\n",
            "Iteration 2900\n",
            "loss  epoch [[25.95330551]]\n",
            "Iteration 2950\n",
            "loss  epoch [[4.64592307]]\n",
            "Iteration 3000\n",
            "loss  epoch [[4.32447947]]\n",
            "Iteration 3050\n",
            "loss  epoch [[4.1823977]]\n",
            "Iteration 3100\n",
            "loss  epoch [[4.0521014]]\n",
            "Iteration 3150\n",
            "loss  epoch [[3.92673872]]\n",
            "Iteration 3200\n",
            "loss  epoch [[3.80451164]]\n",
            "Iteration 3250\n",
            "loss  epoch [[3.68479118]]\n",
            "Iteration 3300\n",
            "loss  epoch [[14.9552571]]\n",
            "Iteration 3350\n",
            "loss  epoch [[3.90625942]]\n",
            "Iteration 3400\n",
            "loss  epoch [[3.58582679]]\n",
            "Iteration 3450\n",
            "loss  epoch [[3.45029848]]\n",
            "Iteration 3500\n",
            "loss  epoch [[3.33645923]]\n",
            "Iteration 3550\n",
            "loss  epoch [[3.23252083]]\n",
            "Iteration 3600\n",
            "loss  epoch [[3.13463704]]\n",
            "Iteration 3650\n",
            "loss  epoch [[4.24362435]]\n",
            "Iteration 3700\n",
            "loss  epoch [[3.44457503]]\n",
            "Iteration 3750\n",
            "loss  epoch [[2.99211221]]\n",
            "Iteration 3800\n",
            "loss  epoch [[2.88708491]]\n",
            "Iteration 3850\n",
            "loss  epoch [[2.80090957]]\n",
            "Iteration 3900\n",
            "loss  epoch [[5.35888715]]\n",
            "Iteration 3950\n",
            "loss  epoch [[13.04998292]]\n",
            "Iteration 4000\n",
            "loss  epoch [[9.03608551]]\n",
            "Iteration 4050\n",
            "loss  epoch [[8.11579756]]\n",
            "Iteration 4100\n",
            "loss  epoch [[7.47500186]]\n",
            "Iteration 4150\n",
            "loss  epoch [[6.9941395]]\n",
            "Iteration 4200\n",
            "loss  epoch [[6.62606779]]\n",
            "Iteration 4250\n",
            "loss  epoch [[6.33378578]]\n",
            "Iteration 4300\n",
            "loss  epoch [[6.08986491]]\n",
            "Iteration 4350\n",
            "loss  epoch [[5.87637489]]\n",
            "Iteration 4400\n",
            "loss  epoch [[5.68245598]]\n",
            "Iteration 4450\n",
            "loss  epoch [[5.50173692]]\n",
            "Iteration 4500\n",
            "loss  epoch [[5.3304906]]\n",
            "Iteration 4550\n",
            "loss  epoch [[5.16651324]]\n",
            "Iteration 4600\n",
            "loss  epoch [[5.00848775]]\n",
            "Iteration 4650\n",
            "loss  epoch [[4.85562698]]\n",
            "Iteration 4700\n",
            "loss  epoch [[4.70746973]]\n"
          ]
        }
      ]
    },
    {
      "cell_type": "code",
      "metadata": {
        "id": "RGoBLp0e179j",
        "colab": {
          "base_uri": "https://localhost:8080/",
          "height": 229
        },
        "outputId": "058aff84-9dfa-48d2-d4fc-7a87a86a9088"
      },
      "source": [
        "\n",
        "#-------------------------------------------plotting-----------------------    \n",
        "def f(x):\n",
        "    \"\"\"\n",
        "    plots starter at t=0s\n",
        "    inputs\n",
        "    x : input array\n",
        "    return solution at 0s\n",
        "    \"\"\"\n",
        "    return -np.sin(np.pi*x)\n",
        "temp = np.linspace(-1,1,100)\n",
        "plt.plot(temp,f(temp),label=\"Initial Condition at t=0s\")\n",
        "ue = Exact[50:50+1,idx_x].T\n",
        "plt.scatter(x0,ue,marker=\"x\",label=\"Exact Solution at t=0.5s\")\n",
        "X = ad.Variable(np.sort(x0),name=\"X\")\n",
        "Unew = model.output(X)\n",
        "U=Unew[:,-1]()\n",
        "\n",
        "plt.scatter(np.sort(x0),U,marker=\"+\",label=\"Predicted by NN t=0.5s\")\n",
        "plt.xlabel(\"x\")\n",
        "plt.ylabel(\"y\")\n",
        "plt.title(\"Training a NN to solve Burgers Equation\")\n",
        "plt.legend()\n",
        "plt.show()"
      ],
      "execution_count": 1,
      "outputs": [
        {
          "output_type": "error",
          "ename": "NameError",
          "evalue": "ignored",
          "traceback": [
            "\u001b[0;31m---------------------------------------------------------------------------\u001b[0m",
            "\u001b[0;31mNameError\u001b[0m                                 Traceback (most recent call last)",
            "\u001b[0;32m<ipython-input-1-290ab8a8482f>\u001b[0m in \u001b[0;36m<module>\u001b[0;34m()\u001b[0m\n\u001b[1;32m      9\u001b[0m     \"\"\"\n\u001b[1;32m     10\u001b[0m     \u001b[0;32mreturn\u001b[0m \u001b[0;34m-\u001b[0m\u001b[0mnp\u001b[0m\u001b[0;34m.\u001b[0m\u001b[0msin\u001b[0m\u001b[0;34m(\u001b[0m\u001b[0mnp\u001b[0m\u001b[0;34m.\u001b[0m\u001b[0mpi\u001b[0m\u001b[0;34m*\u001b[0m\u001b[0mx\u001b[0m\u001b[0;34m)\u001b[0m\u001b[0;34m\u001b[0m\u001b[0;34m\u001b[0m\u001b[0m\n\u001b[0;32m---> 11\u001b[0;31m \u001b[0mtemp\u001b[0m \u001b[0;34m=\u001b[0m \u001b[0mnp\u001b[0m\u001b[0;34m.\u001b[0m\u001b[0mlinspace\u001b[0m\u001b[0;34m(\u001b[0m\u001b[0;34m-\u001b[0m\u001b[0;36m1\u001b[0m\u001b[0;34m,\u001b[0m\u001b[0;36m1\u001b[0m\u001b[0;34m,\u001b[0m\u001b[0;36m100\u001b[0m\u001b[0;34m)\u001b[0m\u001b[0;34m\u001b[0m\u001b[0;34m\u001b[0m\u001b[0m\n\u001b[0m\u001b[1;32m     12\u001b[0m \u001b[0mplt\u001b[0m\u001b[0;34m.\u001b[0m\u001b[0mplot\u001b[0m\u001b[0;34m(\u001b[0m\u001b[0mtemp\u001b[0m\u001b[0;34m,\u001b[0m\u001b[0mf\u001b[0m\u001b[0;34m(\u001b[0m\u001b[0mtemp\u001b[0m\u001b[0;34m)\u001b[0m\u001b[0;34m,\u001b[0m\u001b[0mlabel\u001b[0m\u001b[0;34m=\u001b[0m\u001b[0;34m\"Initial Condition at t=0s\"\u001b[0m\u001b[0;34m)\u001b[0m\u001b[0;34m\u001b[0m\u001b[0;34m\u001b[0m\u001b[0m\n\u001b[1;32m     13\u001b[0m \u001b[0mue\u001b[0m \u001b[0;34m=\u001b[0m \u001b[0mExact\u001b[0m\u001b[0;34m[\u001b[0m\u001b[0;36m50\u001b[0m\u001b[0;34m:\u001b[0m\u001b[0;36m50\u001b[0m\u001b[0;34m+\u001b[0m\u001b[0;36m1\u001b[0m\u001b[0;34m,\u001b[0m\u001b[0midx_x\u001b[0m\u001b[0;34m]\u001b[0m\u001b[0;34m.\u001b[0m\u001b[0mT\u001b[0m\u001b[0;34m\u001b[0m\u001b[0;34m\u001b[0m\u001b[0m\n",
            "\u001b[0;31mNameError\u001b[0m: name 'np' is not defined"
          ]
        }
      ]
    },
    {
      "cell_type": "code",
      "metadata": {
        "id": "bePvJAa6kiBM"
      },
      "source": [
        ""
      ],
      "execution_count": null,
      "outputs": []
    }
  ]
}