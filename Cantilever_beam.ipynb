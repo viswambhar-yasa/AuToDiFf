{
  "nbformat": 4,
  "nbformat_minor": 0,
  "metadata": {
    "colab": {
      "name": "Cantilever_beam.ipynb",
      "provenance": [],
      "collapsed_sections": [],
      "mount_file_id": "16PG2ULRdG-F7Yw9RASaQ8mRlxgxtiB5R",
      "authorship_tag": "ABX9TyN56Aetyn/+bn5ldPD+gWN9",
      "include_colab_link": true
    },
    "kernelspec": {
      "name": "python3",
      "display_name": "Python 3"
    },
    "language_info": {
      "name": "python"
    },
    "accelerator": "GPU"
  },
  "cells": [
    {
      "cell_type": "markdown",
      "metadata": {
        "id": "view-in-github",
        "colab_type": "text"
      },
      "source": [
        "<a href=\"https://colab.research.google.com/github/viswambhar-yasa/AuToDiFf/blob/main/Cantilever_beam.ipynb\" target=\"_parent\"><img src=\"https://colab.research.google.com/assets/colab-badge.svg\" alt=\"Open In Colab\"/></a>"
      ]
    },
    {
      "cell_type": "code",
      "metadata": {
        "id": "3YL14gc6k1cq",
        "colab": {
          "base_uri": "https://localhost:8080/"
        },
        "outputId": "223f2535-ea57-4d79-b5d7-778365df8802"
      },
      "source": [
        "from os.path import join\n",
        "from google.colab import drive\n",
        "\n",
        "ROOT = \"/content/drive\"\n",
        "drive.mount(ROOT)\n",
        "\n",
        "!git clone https://github.com/viswambhar-yasa/AuToDiFf \"/content/drive/My Drive/AutoDiff\""
      ],
      "execution_count": 1,
      "outputs": [
        {
          "output_type": "stream",
          "name": "stdout",
          "text": [
            "Mounted at /content/drive\n",
            "fatal: destination path '/content/drive/My Drive/AutoDiff' already exists and is not an empty directory.\n"
          ]
        }
      ]
    },
    {
      "cell_type": "code",
      "metadata": {
        "id": "RPK2X36HqK3_",
        "colab": {
          "base_uri": "https://localhost:8080/"
        },
        "outputId": "d3455ed8-88a3-46b7-9c51-efdd2639efab"
      },
      "source": [
        "ls"
      ],
      "execution_count": 2,
      "outputs": [
        {
          "output_type": "stream",
          "name": "stdout",
          "text": [
            "\u001b[0m\u001b[01;34mdrive\u001b[0m/  \u001b[01;34msample_data\u001b[0m/\n"
          ]
        }
      ]
    },
    {
      "cell_type": "code",
      "metadata": {
        "id": "E6n9iBlalxNA"
      },
      "source": [
        "import sys,os\n",
        "sys.path.append('/content/drive/MyDrive/AutoDiff/')"
      ],
      "execution_count": 3,
      "outputs": []
    },
    {
      "cell_type": "code",
      "metadata": {
        "id": "v01BRDXPwye_",
        "colab": {
          "base_uri": "https://localhost:8080/"
        },
        "outputId": "e35d19b2-cd1f-45c0-d74f-8f9e0543584e"
      },
      "source": [
        "cd /content/drive/MyDrive/AutoDiff/"
      ],
      "execution_count": 5,
      "outputs": [
        {
          "output_type": "stream",
          "name": "stdout",
          "text": [
            "/content/drive/MyDrive/AutoDiff\n"
          ]
        }
      ]
    },
    {
      "cell_type": "code",
      "metadata": {
        "id": "pSts3ScmlBYa"
      },
      "source": [
        "import autodiff as ad \n",
        "import numpy as np\n",
        "from NN_architecture import NeuralNetLSTM,xavier,diff_n_times\n",
        "import matplotlib.pyplot as plt \n",
        "from optimizers import *"
      ],
      "execution_count": 6,
      "outputs": []
    },
    {
      "cell_type": "code",
      "metadata": {
        "id": "9x0cD41brXyJ"
      },
      "source": [
        "def loss_calculator(model,points):\n",
        "    \"\"\"\n",
        "    Calculates the loss within the domain nd boundary of the differential equation\n",
        "    inputs:\n",
        "    model: The Neural Network model to be trained\n",
        "    points: The points at which loss should be calculated(should lie within the domain)\n",
        "    returns:Mean Squared loss from all the points in domain [0,10]\n",
        "    \"\"\"\n",
        "    X = ad.Variable(points,\"X\")\n",
        "    \n",
        "    val = (10-X)*(10-X)*model.output(X)\n",
        "    #Force (S.I Units)\n",
        "    p = 10000\n",
        "    #Flexural Rigidity - EI\n",
        "    F = 0.000005*200000*1000000\n",
        "    temp = p/F\n",
        "\n",
        "    f = (diff_n_times(val,X,2)) + ((temp*X))\n",
        "    print(f.shape)\n",
        "    lossd = ad.ReduceSumToShape(ad.Pow(f,2),())/100\n",
        "    Xb = ad.Variable(np.array([[10]]))\n",
        "    fb1 = model.output(Xb)\n",
        "    lossb1 =  ad.ReduceSumToShape(ad.Pow(fb1,2),())\n",
        "    fb2 = ad.grad(model.output(Xb),[Xb])[0]\n",
        "    lossb2 =  ad.ReduceSumToShape(ad.Pow(fb2,2),())\n",
        "\n",
        "    return lossd \n",
        "\n",
        "\n",
        "def sampler(n):\n",
        "    \"\"\"\n",
        "    samples of random data points(uniformly distributed)\n",
        "    inputs:\n",
        "    n : number of data points\n",
        "\n",
        "    returns array of size n  \n",
        "    \n",
        "    \"\"\"\n",
        "    np.random.seed(0)\n",
        "    return np.reshape(np.random.uniform(0,10,n),(n,1))\n",
        "\n",
        "class HiddenPrints:\n",
        "    def __enter__(self):\n",
        "        self._original_stdout = sys.stdout\n",
        "        sys.stdout = open(os.devnull, 'w')\n",
        "\n",
        "    def __exit__(self, exc_type, exc_val, exc_tb):\n",
        "        sys.stdout.close()\n",
        "        sys.stdout = self._original_stdout\n",
        "\n",
        "\n",
        "#Instantiating model and optimizer\n",
        "model = NeuralNetLSTM(10,1,1,1)\n",
        "model.set_weights([xavier(i().shape[0],i().shape[1]) for i in model.get_weights()])\n",
        "optimizer= Adamax(len(model.get_weights()))\n",
        "epochs = 600\n",
        "x=sampler(100)"
      ],
      "execution_count": 7,
      "outputs": []
    },
    {
      "cell_type": "code",
      "metadata": {
        "id": "4hZEPU1YrlHs",
        "colab": {
          "base_uri": "https://localhost:8080/"
        },
        "outputId": "2d4286e1-0989-4564-bac4-d4a7e3f9cf7d"
      },
      "source": [
        "loss_model=[]\n",
        "#-------------------------------------------------------Training--------------------------------------------------\n",
        "for i in range(epochs):\n",
        "    with HiddenPrints():\n",
        "      loss = loss_calculator(model,x)\n",
        "      loss_model.append(loss)\n",
        "      params = model.get_weights()\n",
        "      grad_params = ad.grad(loss,params)\n",
        "      new_params = optimizer([i() for i in params], [i() for i in grad_params])\n",
        "      model.set_weights(new_params)\n",
        "      loss2= loss_calculator(model,x)\n",
        "    if (i%50)==0:\n",
        "      print('iteration :',i,\" loss :\",loss2())\n",
        "    #Exit condition\n",
        "    if loss2()< 1e-2:\n",
        "        break\n"
      ],
      "execution_count": 8,
      "outputs": [
        {
          "output_type": "stream",
          "name": "stdout",
          "text": [
            "iteration : 0  loss : 2928.0107016367847\n",
            "iteration : 50  loss : 220.76338996241125\n",
            "iteration : 100  loss : 64.34281472963254\n",
            "iteration : 150  loss : 25.067815898361445\n",
            "iteration : 200  loss : 13.456053256476062\n",
            "iteration : 250  loss : 8.476319659658463\n",
            "iteration : 300  loss : 5.594581322896856\n",
            "iteration : 350  loss : 3.6625555107235606\n",
            "iteration : 400  loss : 2.1617597068289403\n",
            "iteration : 450  loss : 1.0119252902647942\n",
            "iteration : 500  loss : 0.3259669744959814\n",
            "iteration : 550  loss : 0.07039514595737024\n"
          ]
        }
      ]
    },
    {
      "cell_type": "code",
      "metadata": {
        "id": "RyYQM0b7rrau",
        "colab": {
          "base_uri": "https://localhost:8080/",
          "height": 312
        },
        "outputId": "ed8192bc-5375-4f1e-b727-71928bb88431"
      },
      "source": [
        "#-----------------------------------Plotting--------------------------------------\n",
        "np.random.seed(0)\n",
        "x_list = np.random.uniform(low=0,high=10,size=100)\n",
        "def y(x,F,P):\n",
        "    return ((-P*x**3)/(6*F)) + ((P*100*x)/(2*F)) - ((P*1000/(3*F)))\n",
        "y_plot = y(x_list,0.000005*200000*1000000,10000)  \n",
        "print(y_plot.shape)\n",
        "y_list =[]\n",
        "for i in x_list:\n",
        "    X=ad.Variable(np.array([[i]]),name=\"X\")\n",
        "    val =(10-X)*(10-X)*model.output(X) \n",
        "    y_list.append(val()[0][0])\n",
        "plt.plot(np.linspace(0,10,10),np.zeros(10),label=\"Beam before deflection\")\n",
        "plt.scatter(x_list,y_plot,marker=\"+\",label=\"Analytical\")\n",
        "plt.scatter(x_list,y_list,marker=\"x\",label=\"Predicted\")\n",
        "plt.xlabel(\"X\")\n",
        "plt.ylabel(\"Y\")\n",
        "plt.title(\"Cantilever Beam with 10kN Load at end, E= 0.0005m^4,I =200000Mpa\")\n",
        "plt.legend()\n",
        "plt.show()"
      ],
      "execution_count": 10,
      "outputs": [
        {
          "output_type": "stream",
          "name": "stdout",
          "text": [
            "(100,)\n"
          ]
        },
        {
          "output_type": "display_data",
          "data": {
            "image/png": "[encoded data removed]",
            "text/plain": [
              "<Figure size 432x288 with 1 Axes>"
            ]
          },
          "metadata": {
            "needs_background": "light"
          }
        }
      ]
    },
    {
      "cell_type": "code",
      "metadata": {
        "id": "RGoBLp0e179j"
      },
      "source": [
        ""
      ],
      "execution_count": null,
      "outputs": []
    }
  ]
}