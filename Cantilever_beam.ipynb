{
  "nbformat": 4,
  "nbformat_minor": 0,
  "metadata": {
    "colab": {
      "name": "Cantilever_beam.ipynb",
      "private_outputs": true,
      "provenance": [],
      "collapsed_sections": [],
      "mount_file_id": "16PG2ULRdG-F7Yw9RASaQ8mRlxgxtiB5R",
      "authorship_tag": "ABX9TyN56Aetyn/+bn5ldPD+gWN9",
      "include_colab_link": true
    },
    "kernelspec": {
      "name": "python3",
      "display_name": "Python 3"
    },
    "language_info": {
      "name": "python"
    },
    "accelerator": "GPU"
  },
  "cells": [
    {
      "cell_type": "markdown",
      "metadata": {
        "id": "view-in-github",
        "colab_type": "text"
      },
      "source": [
        "<a href=\"https://colab.research.google.com/github/viswambhar-yasa/AuToDiFf/blob/main/Cantilever_beam.ipynb\" target=\"_parent\"><img src=\"https://colab.research.google.com/assets/colab-badge.svg\" alt=\"Open In Colab\"/></a>"
      ]
    },
    {
      "cell_type": "code",
      "metadata": {
        "id": "3YL14gc6k1cq"
      },
      "source": [
        "from os.path import join\n",
        "from google.colab import drive\n",
        "\n",
        "ROOT = \"/content/drive\"\n",
        "drive.mount(ROOT)\n",
        "\n",
        "!git clone https://github.com/viswambhar-yasa/AuToDiFf \"/content/drive/My Drive/AutoDiff\""
      ],
      "execution_count": null,
      "outputs": []
    },
    {
      "cell_type": "code",
      "metadata": {
        "id": "RPK2X36HqK3_"
      },
      "source": [
        "ls"
      ],
      "execution_count": null,
      "outputs": []
    },
    {
      "cell_type": "code",
      "metadata": {
        "id": "E6n9iBlalxNA"
      },
      "source": [
        "import sys,os\n",
        "sys.path.append('/content/drive/MyDrive/AutoDiff/')"
      ],
      "execution_count": null,
      "outputs": []
    },
    {
      "cell_type": "code",
      "metadata": {
        "id": "v01BRDXPwye_"
      },
      "source": [
        "cd /content/drive/MyDrive/AutoDiff/"
      ],
      "execution_count": null,
      "outputs": []
    },
    {
      "cell_type": "code",
      "metadata": {
        "id": "pSts3ScmlBYa"
      },
      "source": [
        "import autodiff as ad \n",
        "import numpy as np\n",
        "from NN_architecture import NeuralNetLSTM,xavier,diff_n_times\n",
        "import matplotlib.pyplot as plt \n",
        "from optimizers import *"
      ],
      "execution_count": null,
      "outputs": []
    },
    {
      "cell_type": "code",
      "metadata": {
        "id": "9x0cD41brXyJ"
      },
      "source": [
        "def loss_calculator(model,points):\n",
        "    \"\"\"\n",
        "    Calculates the loss within the domain nd boundary of the differential equation\n",
        "    inputs:\n",
        "    model: The Neural Network model to be trained\n",
        "    points: The points at which loss should be calculated(should lie within the domain)\n",
        "    returns:Mean Squared loss from all the points in domain [0,10]\n",
        "    \"\"\"\n",
        "    X = ad.Variable(points,\"X\")\n",
        "    \n",
        "    val = (10-X)*(10-X)*model.output(X)\n",
        "    #Force (S.I Units)\n",
        "    p = 10000\n",
        "    #Flexural Rigidity - EI\n",
        "    F = 0.000005*200000*1000000\n",
        "    temp = p/F\n",
        "\n",
        "    f = (diff_n_times(val,X,2)) + ((temp*X))\n",
        "    print(f.shape)\n",
        "    lossd = ad.ReduceSumToShape(ad.Pow(f,2),())/100\n",
        "    Xb = ad.Variable(np.array([[10]]))\n",
        "    fb1 = model.output(Xb)\n",
        "    lossb1 =  ad.ReduceSumToShape(ad.Pow(fb1,2),())\n",
        "    fb2 = ad.grad(model.output(Xb),[Xb])[0]\n",
        "    lossb2 =  ad.ReduceSumToShape(ad.Pow(fb2,2),())\n",
        "\n",
        "    return lossd \n",
        "\n",
        "\n",
        "def sampler(n):\n",
        "    \"\"\"\n",
        "    samples of random data points(uniformly distributed)\n",
        "    inputs:\n",
        "    n : number of data points\n",
        "\n",
        "    returns array of size n  \n",
        "    \n",
        "    \"\"\"\n",
        "    np.random.seed(0)\n",
        "    return np.reshape(np.random.uniform(0,10,n),(n,1))\n",
        "\n",
        "class HiddenPrints:\n",
        "    def __enter__(self):\n",
        "        self._original_stdout = sys.stdout\n",
        "        sys.stdout = open(os.devnull, 'w')\n",
        "\n",
        "    def __exit__(self, exc_type, exc_val, exc_tb):\n",
        "        sys.stdout.close()\n",
        "        sys.stdout = self._original_stdout\n",
        "\n",
        "\n",
        "#Instantiating model and optimizer\n",
        "model = NeuralNetLSTM(10,1,1,1)\n",
        "model.set_weights([xavier(i().shape[0],i().shape[1]) for i in model.get_weights()])\n",
        "optimizer= Adamax(len(model.get_weights()))\n",
        "epochs = 600\n",
        "x=sampler(100)"
      ],
      "execution_count": null,
      "outputs": []
    },
    {
      "cell_type": "code",
      "metadata": {
        "id": "4hZEPU1YrlHs"
      },
      "source": [
        "loss_model=[]\n",
        "#-------------------------------------------------------Training--------------------------------------------------\n",
        "for i in range(epochs):\n",
        "    with HiddenPrints():\n",
        "      loss = loss_calculator(model,x)\n",
        "      loss_model.append(loss)\n",
        "      params = model.get_weights()\n",
        "      grad_params = ad.grad(loss,params)\n",
        "      new_params = optimizer([i() for i in params], [i() for i in grad_params])\n",
        "      model.set_weights(new_params)\n",
        "      loss2= loss_calculator(model,x)\n",
        "    if (i%50)==0:\n",
        "      print('iteration :',i,\" loss :\",loss2())\n",
        "    #Exit condition\n",
        "    if loss2()< 1e-2:\n",
        "        break\n"
      ],
      "execution_count": null,
      "outputs": []
    },
    {
      "cell_type": "code",
      "metadata": {
        "id": "RyYQM0b7rrau"
      },
      "source": [
        "#-----------------------------------Plotting--------------------------------------\n",
        "np.random.seed(0)\n",
        "x_list = np.random.uniform(low=0,high=10,size=100)\n",
        "def y(x,F,P):\n",
        "    return ((-P*x**3)/(6*F)) + ((P*100*x)/(2*F)) - ((P*1000/(3*F)))\n",
        "y_plot = y(x_list,0.000005*200000*1000000,10000)  \n",
        "print(y_plot.shape)\n",
        "y_list =[]\n",
        "for i in x_list:\n",
        "    X=ad.Variable(np.array([[i]]),name=\"X\")\n",
        "    val =(10-X)*(10-X)*model.output(X) \n",
        "    y_list.append(val()[0][0])\n",
        "plt.plot(np.linspace(0,10,10),np.zeros(10),label=\"Beam before deflection\")\n",
        "plt.scatter(x_list,y_plot,marker=\"+\",label=\"Analytical\")\n",
        "plt.scatter(x_list,y_list,marker=\"x\",label=\"Predicted\")\n",
        "plt.xlabel(\"X\")\n",
        "plt.ylabel(\"Y\")\n",
        "plt.title(\"Cantilever Beam with 10kN Load at end, E= 0.0005m^4,I =200000Mpa\")\n",
        "plt.legend()\n",
        "plt.show()"
      ],
      "execution_count": null,
      "outputs": []
    },
    {
      "cell_type": "code",
      "metadata": {
        "id": "RGoBLp0e179j"
      },
      "source": [
        ""
      ],
      "execution_count": null,
      "outputs": []
    }
  ]
}