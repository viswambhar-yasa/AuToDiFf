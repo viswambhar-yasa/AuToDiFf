{
  "nbformat": 4,
  "nbformat_minor": 0,
  "metadata": {
    "colab": {
      "name": "derivative_of_sin.ipynb",
      "provenance": [],
      "collapsed_sections": [],
      "mount_file_id": "16PG2ULRdG-F7Yw9RASaQ8mRlxgxtiB5R",
      "authorship_tag": "ABX9TyNPVTBYBuatFHun0G951AID",
      "include_colab_link": true
    },
    "kernelspec": {
      "name": "python3",
      "display_name": "Python 3"
    },
    "language_info": {
      "name": "python"
    },
    "accelerator": "GPU"
  },
  "cells": [
    {
      "cell_type": "markdown",
      "metadata": {
        "id": "view-in-github",
        "colab_type": "text"
      },
      "source": [
        "<a href=\"https://colab.research.google.com/github/viswambhar-yasa/AuToDiFf/blob/main/derivative_of_sin.ipynb\" target=\"_parent\"><img src=\"https://colab.research.google.com/assets/colab-badge.svg\" alt=\"Open In Colab\"/></a>"
      ]
    },
    {
      "cell_type": "code",
      "metadata": {
        "colab": {
          "base_uri": "https://localhost:8080/"
        },
        "id": "3YL14gc6k1cq",
        "outputId": "08edf488-8088-46a6-ef5d-df8528389d13"
      },
      "source": [
        "from os.path import join\n",
        "from google.colab import drive\n",
        "\n",
        "ROOT = \"/content/drive\"\n",
        "drive.mount(ROOT)\n",
        "\n",
        "!git clone https://github.com/viswambhar-yasa/AuToDiFf \"/content/drive/My Drive/AutoDiff\""
      ],
      "execution_count": 1,
      "outputs": [
        {
          "output_type": "stream",
          "name": "stdout",
          "text": [
            "Mounted at /content/drive\n",
            "fatal: destination path '/content/drive/My Drive/AutoDiff' already exists and is not an empty directory.\n"
          ]
        }
      ]
    },
    {
      "cell_type": "code",
      "metadata": {
        "id": "RPK2X36HqK3_",
        "colab": {
          "base_uri": "https://localhost:8080/"
        },
        "outputId": "977717cc-2507-415f-b0d6-f97dfc0fa275"
      },
      "source": [
        "ls"
      ],
      "execution_count": 4,
      "outputs": [
        {
          "output_type": "stream",
          "name": "stdout",
          "text": [
            "\u001b[0m\u001b[01;34mdrive\u001b[0m/  \u001b[01;34msample_data\u001b[0m/\n"
          ]
        }
      ]
    },
    {
      "cell_type": "code",
      "metadata": {
        "id": "E6n9iBlalxNA"
      },
      "source": [
        "import sys,os\n",
        "sys.path.append('/content/drive/MyDrive/AutoDiff/')"
      ],
      "execution_count": 5,
      "outputs": []
    },
    {
      "cell_type": "code",
      "metadata": {
        "id": "R3pR5r8xpRFg",
        "colab": {
          "base_uri": "https://localhost:8080/"
        },
        "outputId": "a8c4a2c2-fa05-4a0d-af65-84e8af60b517"
      },
      "source": [
        "ls"
      ],
      "execution_count": 6,
      "outputs": [
        {
          "output_type": "stream",
          "name": "stdout",
          "text": [
            "\u001b[0m\u001b[01;34mdrive\u001b[0m/  \u001b[01;34msample_data\u001b[0m/\n"
          ]
        }
      ]
    },
    {
      "cell_type": "code",
      "metadata": {
        "colab": {
          "base_uri": "https://localhost:8080/"
        },
        "id": "v01BRDXPwye_",
        "outputId": "8e7cd6e1-53e5-43cf-c3e2-ff414291e8a9"
      },
      "source": [
        "cd /content/drive/MyDrive/AutoDiff/"
      ],
      "execution_count": 7,
      "outputs": [
        {
          "output_type": "stream",
          "name": "stdout",
          "text": [
            "/content/drive/MyDrive/AutoDiff\n"
          ]
        }
      ]
    },
    {
      "cell_type": "code",
      "metadata": {
        "id": "pSts3ScmlBYa"
      },
      "source": [
        "import autodiff as ad \n",
        "import numpy as np\n",
        "from NN_architecture import NeuralNetLSTM,xavier,diff_n_times\n",
        "import matplotlib.pyplot as plt \n",
        "from optimizers import *"
      ],
      "execution_count": 8,
      "outputs": []
    },
    {
      "cell_type": "code",
      "metadata": {
        "id": "9x0cD41brXyJ"
      },
      "source": [
        "def loss(model,point):\n",
        "    \"\"\"\n",
        "    Calculates loss of a model at the given point \n",
        "    Inputs:\n",
        "    model: The NN model which is being trained .Type: Neural Net LSTM Object. \n",
        "    point: The point at which the loss is to be calculated. Type:Float\n",
        "    returns: squared loss of model at the point\n",
        "    \"\"\"\n",
        "    #Conversion of the point into autodiff variable\n",
        "    point = ad.Variable(np.array([[point]]),name=\"point\")\n",
        "    val = model.output(point)\n",
        "    #penalizing against sine\n",
        "    loss = val - ad.Sine(point)\n",
        "\n",
        "    return ad.Pow(loss,2)\n",
        "\n",
        "def sampler(n):\n",
        "    \"\"\"\n",
        "    samples of random data points(uniformly distributed)\n",
        "    inputs:\n",
        "    n : number of data points\n",
        "\n",
        "    returns array of size n  \n",
        "    \"\"\"\n",
        "    return np.random.uniform(0,np.pi,n) \n",
        "\n",
        "#Instantiating the Neural Network\n",
        "model = NeuralNetLSTM(5,1,1,1)\n",
        "model.set_weights([xavier(i().shape[0],i().shape[1]) for i in model.get_weights()])\n",
        "listx= sampler(500)\n",
        "#print(listx)\n",
        "#Max number of iterations\n",
        "epochs = 50\n",
        "class HiddenPrints:\n",
        "    def __enter__(self):\n",
        "        self._original_stdout = sys.stdout\n",
        "        sys.stdout = open(os.devnull, 'w')\n",
        "\n",
        "    def __exit__(self, exc_type, exc_val, exc_tb):\n",
        "        sys.stdout.close()\n",
        "        sys.stdout = self._original_stdout"
      ],
      "execution_count": 9,
      "outputs": []
    },
    {
      "cell_type": "code",
      "metadata": {
        "colab": {
          "base_uri": "https://localhost:8080/"
        },
        "id": "4hZEPU1YrlHs",
        "outputId": "aae512c2-2c45-4021-8db1-79cfd268d60e"
      },
      "source": [
        "#training the model\n",
        "loss_model=[]\n",
        "\n",
        "for j in range(epochs):\n",
        "    #Instantiating optimizer\n",
        "    with HiddenPrints():\n",
        "      optimizer = RMSProp(len(model.get_weights()))\n",
        "      L1 = ad.Variable(0,\"L1\")\n",
        "      for i in listx:\n",
        "        L1.value = L1.value + loss(model,i)()[0][0]\n",
        "    #print(\"initial loss\",L1())\n",
        "      for i in listx:\n",
        "        params = model.get_weights()\n",
        "        #Get Gradients\n",
        "\n",
        "        grad_params = ad.grad(loss(model,i),params)\n",
        "        new_params=[0 for _ in params]\n",
        "\n",
        "        #Take descent step by calling optimizer\n",
        "        new_params = optimizer([i() for i in params], [i() for i in grad_params])\n",
        "        \n",
        "        model.set_weights(new_params)\n",
        "\n",
        "      L2 = ad.Variable(0,\"L2\")\n",
        "      for i in listx:\n",
        "        L2.value = L2.value + loss(model,i)()[0][0]\n",
        "    #Exit condition\n",
        "    if L2() > L1() or L2() < 1e-2: #or np.abs(L2()-L1()) < 1e-2:\n",
        "        print(\"iteration\",j,\"loss:\",L2())\n",
        "        break\n",
        "    else:\n",
        "        print(\"gradient steptaken epoch:\",j)\n",
        "\n"
      ],
      "execution_count": 11,
      "outputs": [
        {
          "output_type": "stream",
          "name": "stdout",
          "text": [
            "gradient steptaken epoch: 0\n",
            "gradient steptaken epoch: 1\n",
            "gradient steptaken epoch: 2\n",
            "iteration 3 loss: 0.09439647585467947\n"
          ]
        }
      ]
    },
    {
      "cell_type": "code",
      "metadata": {
        "id": "RyYQM0b7rrau",
        "colab": {
          "base_uri": "https://localhost:8080/",
          "height": 281
        },
        "outputId": "11b11c4e-37f4-4cbf-f46b-c5ce6ad5421f"
      },
      "source": [
        "x_list = np.linspace(0,np.pi,100)\n",
        "def y(x):\n",
        "    \"\"\"\n",
        "    sin function for plotting \n",
        "    input:\n",
        "    x : float or numpy array of floats\n",
        "    returns sin(x)\n",
        "    \"\"\"\n",
        "    return np.sin(x)\n",
        "y_list =[]\n",
        "for i in x_list:\n",
        "    X=ad.Variable(np.array([[i]]),name=\"X\")\n",
        "    y_list.append(model.output(X)()[0][0])\n",
        "plt.plot(x_list,y_list,marker=\"_\",label=\"Predicted by NN\")\n",
        "plt.plot(x_list,y(x_list),marker=\"_\",label=\"Theoretical Solution\")\n",
        "plt.title(\"Training Neural Network as a functional approximator for : y = sin(x)\")\n",
        "plt.legend()\n",
        "plt.show()"
      ],
      "execution_count": 12,
      "outputs": [
        {
          "output_type": "display_data",
          "data": {
            "image/png": "[encoded data removed]",
            "text/plain": [
              "<Figure size 432x288 with 1 Axes>"
            ]
          },
          "metadata": {
            "needs_background": "light"
          }
        }
      ]
    },
    {
      "cell_type": "code",
      "metadata": {
        "id": "RGoBLp0e179j"
      },
      "source": [
        ""
      ],
      "execution_count": null,
      "outputs": []
    }
  ]
}