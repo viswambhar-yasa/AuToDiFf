{
  "nbformat": 4,
  "nbformat_minor": 0,
  "metadata": {
    "colab": {
      "name": "Solving_ODE.ipynb",
      "provenance": [],
      "collapsed_sections": [],
      "mount_file_id": "16PG2ULRdG-F7Yw9RASaQ8mRlxgxtiB5R",
      "authorship_tag": "ABX9TyOdCHe2eYhIjED92n8vdVAY",
      "include_colab_link": true
    },
    "kernelspec": {
      "name": "python3",
      "display_name": "Python 3"
    },
    "language_info": {
      "name": "python"
    },
    "accelerator": "GPU"
  },
  "cells": [
    {
      "cell_type": "markdown",
      "metadata": {
        "id": "view-in-github",
        "colab_type": "text"
      },
      "source": [
        "<a href=\"https://colab.research.google.com/github/viswambhar-yasa/AuToDiFf/blob/main/Solving_ODE.ipynb\" target=\"_parent\"><img src=\"https://colab.research.google.com/assets/colab-badge.svg\" alt=\"Open In Colab\"/></a>"
      ]
    },
    {
      "cell_type": "markdown",
      "metadata": {
        "id": "yrvw_7KYUzmH"
      },
      "source": [
        "\n",
        "This script validates the proposed method by solving a small differential equation whose solution is given by the variable seperable method.\n",
        "\n",
        "The differential equation:\n",
        "y' = y\n",
        "BCs:\n",
        "y(2) = exp(2)\n",
        "y(3) = exp(3)\n",
        "\n",
        "Strategy: \n",
        "-> the sampler is seeded and plotting is done only for the trained data points.\n",
        "-> one training step means one descent step taken by calculating loss at all points one after another.\n",
        "Type: Soft assignment of Boundary Conditions(deep galerkin approach)"
      ]
    },
    {
      "cell_type": "code",
      "metadata": {
        "colab": {
          "base_uri": "https://localhost:8080/"
        },
        "id": "3YL14gc6k1cq",
        "outputId": "f4a907a6-b14f-4092-fcf3-548d646d7f27"
      },
      "source": [
        "from os.path import join\n",
        "from google.colab import drive\n",
        "\n",
        "ROOT = \"/content/drive\"\n",
        "drive.mount(ROOT)\n",
        "\n",
        "!git clone https://github.com/viswambhar-yasa/AuToDiFf \"/content/drive/My Drive/AutoDiff\""
      ],
      "execution_count": 1,
      "outputs": [
        {
          "output_type": "stream",
          "name": "stdout",
          "text": [
            "Mounted at /content/drive\n",
            "fatal: destination path '/content/drive/My Drive/AutoDiff' already exists and is not an empty directory.\n"
          ]
        }
      ]
    },
    {
      "cell_type": "code",
      "metadata": {
        "id": "RPK2X36HqK3_",
        "colab": {
          "base_uri": "https://localhost:8080/"
        },
        "outputId": "c44ddec1-20ce-4fe2-8dbe-0fbd577e9c3f"
      },
      "source": [
        "ls"
      ],
      "execution_count": 2,
      "outputs": [
        {
          "output_type": "stream",
          "name": "stdout",
          "text": [
            "\u001b[0m\u001b[01;34mdrive\u001b[0m/  \u001b[01;34msample_data\u001b[0m/\n"
          ]
        }
      ]
    },
    {
      "cell_type": "code",
      "metadata": {
        "id": "E6n9iBlalxNA"
      },
      "source": [
        "import sys,os\n",
        "sys.path.append('/content/drive/MyDrive/AutoDiff/')"
      ],
      "execution_count": 3,
      "outputs": []
    },
    {
      "cell_type": "code",
      "metadata": {
        "id": "R3pR5r8xpRFg",
        "colab": {
          "base_uri": "https://localhost:8080/"
        },
        "outputId": "bb00b120-a8ef-4cf5-ed99-c3707b560cc4"
      },
      "source": [
        "ls"
      ],
      "execution_count": 4,
      "outputs": [
        {
          "output_type": "stream",
          "name": "stdout",
          "text": [
            "\u001b[0m\u001b[01;34mdrive\u001b[0m/  \u001b[01;34msample_data\u001b[0m/\n"
          ]
        }
      ]
    },
    {
      "cell_type": "code",
      "metadata": {
        "colab": {
          "base_uri": "https://localhost:8080/"
        },
        "id": "v01BRDXPwye_",
        "outputId": "c6e46871-5e84-4b8c-f0fb-a5f3f99ecabf"
      },
      "source": [
        "cd /content/drive/MyDrive/AutoDiff/"
      ],
      "execution_count": 5,
      "outputs": [
        {
          "output_type": "stream",
          "name": "stdout",
          "text": [
            "/content/drive/MyDrive/AutoDiff\n"
          ]
        }
      ]
    },
    {
      "cell_type": "code",
      "metadata": {
        "id": "pSts3ScmlBYa"
      },
      "source": [
        "import autodiff as ad \n",
        "import numpy as np\n",
        "from NN_architecture import NeuralNetLSTM,xavier,diff_n_times\n",
        "import matplotlib.pyplot as plt \n",
        "from optimizers import *"
      ],
      "execution_count": 6,
      "outputs": []
    },
    {
      "cell_type": "code",
      "metadata": {
        "id": "9x0cD41brXyJ",
        "colab": {
          "base_uri": "https://localhost:8080/"
        },
        "outputId": "65772aff-dcfa-4fcf-8712-cfdfd41d9f9d"
      },
      "source": [
        "\n",
        "def loss_domain(model,point):\n",
        "    \"\"\"\n",
        "    Calculates the loss within the domain of the differential equation\n",
        "    inputs:\n",
        "    model: The Neural Network model to be trained\n",
        "    point: The point at which loss should be calculated(should lie within the domain)\n",
        "    returns: Squared loss in domain\n",
        "    \"\"\"\n",
        "    point = ad.Variable(np.array([[point]]),name=\"point\")\n",
        "    \n",
        "    val = model.output(point)\n",
        "    loss =    ad.grad(val,[point])[0] - val\n",
        "    #print(\"loss:\",loss())\n",
        "    return ad.Pow(loss,2)\n",
        "def loss_boundary(model):\n",
        "    \"\"\"\n",
        "    Calculates loss at the boundaries.\n",
        "    Inputs:\n",
        "    model: The Neural Network model to be trained\n",
        "    returns: Sum of Squared loss at the upper and lower boundaries\n",
        "    \"\"\"\n",
        "    #point = ad.Variable(np.array([[0]]),name=\"point\")\n",
        "    pointu =ad.Variable(np.array([[2]]),name=\"pointu\")\n",
        "    pointm =ad.Variable(np.array([[3]]),name=\"pointm\")\n",
        "    #val = model.output(point)-np.array([[1]])\n",
        "    valu =model.output(pointu)-np.array([[np.exp(2)]])\n",
        "    valm = model.output(pointm)-np.array([[np.exp(3)]])\n",
        "\n",
        "\n",
        "    return ad.Pow(valu+valm,2)\n",
        "def sampler(n):\n",
        "    \"\"\"\n",
        "    samples of random data points(uniformly distributed)\n",
        "    inputs:\n",
        "    n : number of data points\n",
        "\n",
        "    returns array of size n  \n",
        "    \n",
        "    \"\"\"\n",
        "    np.random.seed(0)\n",
        "    return np.random.uniform(2,3,n) \n",
        "#Instantiating the NN\n",
        "model = NeuralNetLSTM(10,1,1,1)\n",
        "model.set_weights([xavier(i().shape[0],i().shape[1]) for i in model.get_weights()])\n",
        "loss = loss_domain(model,5)\n",
        "print(loss())"
      ],
      "execution_count": 7,
      "outputs": [
        {
          "output_type": "stream",
          "name": "stdout",
          "text": [
            "[[24.92235489]]\n"
          ]
        }
      ]
    },
    {
      "cell_type": "code",
      "metadata": {
        "colab": {
          "base_uri": "https://localhost:8080/"
        },
        "id": "4hZEPU1YrlHs",
        "outputId": "8b6d2d92-3e05-456d-ccbe-d46ff2745860"
      },
      "source": [
        "resampler_epochs=[0]\n",
        "for k in resampler_epochs:\n",
        "    print(\"sampling for iteration:\",k)\n",
        "    listx= sampler(250)\n",
        "    epochs = 100\n",
        "    #Instantiating the optimizer\n",
        "    optimizer = Adam(len(model.get_weights()),lr=0.0005)\n",
        "\n",
        "    for j in range(epochs):\n",
        "        L1 = ad.Variable(0,\"L1\")\n",
        "        for i in listx:\n",
        "            L1.value = L1.value + loss_domain(model,i)()[0][0] + loss_boundary(model)()[0][0]\n",
        "        L1.value = L1.value /250\n",
        "        print(\"initial loss\",L1())\n",
        "        \n",
        "        for i in listx:\n",
        "            params = model.get_weights()\n",
        "            #Get gradients\n",
        "\n",
        "            grad_params = ad.grad(loss_domain(model,i)+loss_boundary(model),params)\n",
        "            new_params=[0 for _ in params]\n",
        "            new_params = optimizer([i() for i in params], [i() for i in grad_params])\n",
        "            model.set_weights(new_params)\n",
        "\n",
        "        L2 = ad.Variable(0,\"L2\")\n",
        "        for i in listx:\n",
        "            L2.value = L2.value + loss_domain(model,i)()[0][0] + loss_boundary(model)()[0][0]\n",
        "        L2.value = L2.value/250\n",
        "        print(\"Now,loss:\",L2())\n",
        "        #Exit condition\n",
        "        if L2() > L1() or L2() < 1e-2 or np.abs(L2()-L1()) < 1e-2:\n",
        "            print(\"loss minimized:\",L2())\n",
        "            break\n",
        "        else:\n",
        "            print(\"gradient steptaken epoch:\",j)"
      ],
      "execution_count": 11,
      "outputs": [
        {
          "output_type": "stream",
          "name": "stdout",
          "text": [
            "sampling for iteration: 0\n",
            "initial loss 1177.9100854202613\n",
            "Now,loss: 194.03959552418\n",
            "gradient steptaken epoch: 0\n",
            "initial loss 194.03959552418\n",
            "Now,loss: 98.70916428597327\n",
            "gradient steptaken epoch: 1\n",
            "initial loss 98.70916428597327\n",
            "Now,loss: 56.89711854599842\n",
            "gradient steptaken epoch: 2\n",
            "initial loss 56.89711854599842\n",
            "Now,loss: 34.20477250271631\n",
            "gradient steptaken epoch: 3\n",
            "initial loss 34.20477250271631\n",
            "Now,loss: 23.640489995367748\n",
            "gradient steptaken epoch: 4\n",
            "initial loss 23.640489995367748\n",
            "Now,loss: 14.732343354272595\n",
            "gradient steptaken epoch: 5\n",
            "initial loss 14.732343354272595\n",
            "Now,loss: 9.147111629995194\n",
            "gradient steptaken epoch: 6\n",
            "initial loss 9.147111629995194\n",
            "Now,loss: 5.359437545645846\n",
            "gradient steptaken epoch: 7\n",
            "initial loss 5.359437545645846\n",
            "Now,loss: 3.288123267964646\n",
            "gradient steptaken epoch: 8\n",
            "initial loss 3.288123267964646\n",
            "Now,loss: 2.2392386203308194\n",
            "gradient steptaken epoch: 9\n",
            "initial loss 2.2392386203308194\n",
            "Now,loss: 1.520332761670339\n",
            "gradient steptaken epoch: 10\n",
            "initial loss 1.520332761670339\n",
            "Now,loss: 1.0163375326092108\n",
            "gradient steptaken epoch: 11\n",
            "initial loss 1.0163375326092108\n",
            "Now,loss: 0.6721419680990648\n",
            "gradient steptaken epoch: 12\n",
            "initial loss 0.6721419680990648\n",
            "Now,loss: 0.44118955337960764\n",
            "gradient steptaken epoch: 13\n",
            "initial loss 0.44118955337960764\n",
            "Now,loss: 0.28871617130448074\n",
            "gradient steptaken epoch: 14\n",
            "initial loss 0.28871617130448074\n",
            "Now,loss: 0.18982505830965227\n",
            "gradient steptaken epoch: 15\n",
            "initial loss 0.18982505830965227\n",
            "Now,loss: 0.12665961174073245\n",
            "gradient steptaken epoch: 16\n",
            "initial loss 0.12665961174073245\n",
            "Now,loss: 0.08700388659606835\n",
            "gradient steptaken epoch: 17\n",
            "initial loss 0.08700388659606835\n",
            "Now,loss: 0.0625431565158872\n",
            "gradient steptaken epoch: 18\n",
            "initial loss 0.0625431565158872\n",
            "Now,loss: 0.047362118290101646\n",
            "gradient steptaken epoch: 19\n",
            "initial loss 0.047362118290101646\n",
            "Now,loss: 0.037679488514213225\n",
            "loss minimized: 0.037679488514213225\n"
          ]
        }
      ]
    },
    {
      "cell_type": "code",
      "metadata": {
        "id": "RyYQM0b7rrau",
        "colab": {
          "base_uri": "https://localhost:8080/",
          "height": 295
        },
        "outputId": "968031b1-265c-4d8d-c537-435bba861078"
      },
      "source": [
        "np.random.seed(0)\n",
        "x_list = np.random.uniform(low=1.5,high=3.5,size=250)\n",
        "plot_list = np.random.uniform(low=1.5,high=3.5,size=500)\n",
        "def y(x):\n",
        "    return np.exp(x)\n",
        "y_list =[]\n",
        "for i in x_list:\n",
        "    X=ad.Variable(np.array([[i]]),name=\"X\")\n",
        "    Xm=ad.Variable(np.array([[1-i]]),name=\"Xm\")\n",
        "    val =model.output(X) \n",
        "    y_list.append(val()[0][0])\n",
        "plt.scatter(plot_list,y(plot_list),marker=\"+\",label=\"Analytical\")\n",
        "plt.scatter(x_list,y_list,marker=\"x\",label=\"Predicted\")\n",
        "plt.xlabel(\"X\")\n",
        "plt.ylabel(\"Y\")\n",
        "plt.title(\"Training NN to solve differential equation y'-y=0\")\n",
        "plt.legend()\n",
        "plt.show()"
      ],
      "execution_count": 12,
      "outputs": [
        {
          "output_type": "display_data",
          "data": {
            "image/png": "[encoded data removed]",
            "text/plain": [
              "<Figure size 432x288 with 1 Axes>"
            ]
          },
          "metadata": {
            "needs_background": "light"
          }
        }
      ]
    },
    {
      "cell_type": "code",
      "metadata": {
        "id": "RGoBLp0e179j"
      },
      "source": [
        ""
      ],
      "execution_count": null,
      "outputs": []
    }
  ]
}